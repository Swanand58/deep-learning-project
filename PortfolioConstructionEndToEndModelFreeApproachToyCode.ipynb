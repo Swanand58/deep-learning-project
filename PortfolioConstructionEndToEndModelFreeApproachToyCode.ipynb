{
  "nbformat": 4,
  "nbformat_minor": 0,
  "metadata": {
    "colab": {
      "provenance": []
    },
    "kernelspec": {
      "name": "python3",
      "display_name": "Python 3"
    },
    "language_info": {
      "name": "python"
    }
  },
  "cells": [
    {
      "cell_type": "code",
      "source": [
        "# importing necessary libraries\n",
        "import torch\n",
        "import torch.nn as nn\n",
        "import torch.nn.functional as F\n",
        "\n",
        "# setting the seed for torch\n",
        "torch.manual_seed(100)"
      ],
      "metadata": {
        "colab": {
          "base_uri": "https://localhost:8080/"
        },
        "id": "JoILBgxj35Vb",
        "outputId": "1c284f9d-0e87-4dcc-fc85-82a9dd8db0f2"
      },
      "execution_count": null,
      "outputs": [
        {
          "output_type": "execute_result",
          "data": {
            "text/plain": [
              "<torch._C.Generator at 0x7d16943c5870>"
            ]
          },
          "metadata": {},
          "execution_count": 1
        }
      ]
    },
    {
      "cell_type": "code",
      "source": [
        "# defining the neural network with the given structure\n",
        "class forcasting_model(nn.Module):\n",
        "\n",
        "    def __init__(self,):\n",
        "        super().__init__()\n",
        "        self.linear = nn.Linear(2, 2, bias=True, device=None, dtype=None)\n",
        "        self.linear2 = nn.Linear(2, 1, bias=True, device=None, dtype=None)\n",
        "\n",
        "        #initializing the weights and biases\n",
        "        weight = torch.tensor([[0.5, 0.5]])\n",
        "        bias = torch.tensor([0.5])\n",
        "        with torch.no_grad():\n",
        "          self.linear.weight.copy_(weight)\n",
        "          self.linear.bias.copy_(bias)\n",
        "\n",
        "    def forward(self, inp: torch.tensor):\n",
        "        print(\"printing input: \",inp)\n",
        "        print(\"\\n\")\n",
        "\n",
        "        out = F.leaky_relu(inp)\n",
        "        print(\"printing output: of leaky relu \",out)\n",
        "        print(\"\\n\")\n",
        "\n",
        "        out = self.linear(out)\n",
        "        print(\"printing output: of linear layer\",out)\n",
        "        print(\"\\n\")\n",
        "\n",
        "        out = self.linear2(out)\n",
        "\n",
        "        out = F.softmax(out, dim=0)\n",
        "        print(\"printing output: of softmax layer\",out)\n",
        "\n",
        "        return out\n",
        "\n"
      ],
      "metadata": {
        "id": "N8YEFNMk37-u"
      },
      "execution_count": null,
      "outputs": []
    },
    {
      "cell_type": "code",
      "source": [
        "# instantiating the class\n",
        "model = forcasting_model()\n",
        "\n",
        "# weights and biases before training\n",
        "for layer in model.children():\n",
        "    if isinstance(layer, nn.Linear):\n",
        "        print(layer.state_dict()['weight'])\n",
        "        print(layer.state_dict()['bias'])"
      ],
      "metadata": {
        "colab": {
          "base_uri": "https://localhost:8080/"
        },
        "id": "Pm-8SeJf_I33",
        "outputId": "8b5710e2-a639-45eb-c67f-b2d5fe6f5576"
      },
      "execution_count": null,
      "outputs": [
        {
          "output_type": "stream",
          "name": "stdout",
          "text": [
            "tensor([[0.5000, 0.5000],\n",
            "        [0.5000, 0.5000]])\n",
            "tensor([0.5000, 0.5000])\n",
            "tensor([[-0.3356, -0.6465]])\n",
            "tensor([-0.4129])\n"
          ]
        }
      ]
    },
    {
      "cell_type": "code",
      "source": [
        "# defining the loss function\n",
        "sharpeRatioLossFunc = lambda out,x,x_star: -((out.T @ x_star)/((out.T @ torch.cov(x))@ out))\n",
        "# portfolioReturnLossFunction = lambda out,x,x_star: -((out.T @ x_star))\n",
        "\n",
        "# specifying the optimization algorithm\n",
        "optimizer = torch.optim.SGD(model.parameters(), lr=1e-2)\n"
      ],
      "metadata": {
        "id": "v-Rqw28Z_RfF"
      },
      "execution_count": null,
      "outputs": []
    },
    {
      "cell_type": "code",
      "source": [
        "# toy input data\n",
        "\n",
        "# Daily returns of two stocks for yesterday and day before yesterday\n",
        "x = torch.tensor([[2.0, 1.0],\n",
        "                  [4.0, -2.0]])\n",
        "\n",
        "# Daily return today\n",
        "x_star = torch.tensor([[4.0],\n",
        "                       [6.0]])"
      ],
      "metadata": {
        "id": "JMDp1uRV_7Ah"
      },
      "execution_count": null,
      "outputs": []
    },
    {
      "cell_type": "code",
      "source": [
        "# training the model\n",
        "\n",
        "# training\n",
        "model.train()\n",
        "out = model(x)\n",
        "\n",
        "# calculating loss\n",
        "loss = portfolioReturnLossFunction(out, x, x_star)\n",
        "\n",
        "# backpropagation\n",
        "optimizer.zero_grad()\n",
        "loss.backward()\n",
        "optimizer.step()\n",
        "print(\"\\n\")"
      ],
      "metadata": {
        "colab": {
          "base_uri": "https://localhost:8080/"
        },
        "id": "KKtMJp17A32m",
        "outputId": "3534bd17-4378-4e1c-8c79-a29d762fab2f"
      },
      "execution_count": null,
      "outputs": [
        {
          "output_type": "stream",
          "name": "stdout",
          "text": [
            "printing input:  tensor([[ 2.,  1.],\n",
            "        [ 4., -2.]])\n",
            "\n",
            "\n",
            "printing output: of leaky relu  tensor([[ 2.0000,  1.0000],\n",
            "        [ 4.0000, -0.0200]])\n",
            "\n",
            "\n",
            "printing output: of linear layer tensor([[2.0000],\n",
            "        [2.4900]], grad_fn=<AddmmBackward0>)\n",
            "\n",
            "\n",
            "printing output: of softmax layer tensor([[0.3799],\n",
            "        [0.6201]], grad_fn=<SoftmaxBackward0>)\n",
            "\n",
            "\n"
          ]
        }
      ]
    },
    {
      "cell_type": "code",
      "source": [
        "# weights and biases after training\n",
        "for layer in model.children():\n",
        "    if isinstance(layer, nn.Linear):\n",
        "        print(layer.state_dict()['weight'])\n",
        "        print(layer.state_dict()['bias'])"
      ],
      "metadata": {
        "colab": {
          "base_uri": "https://localhost:8080/"
        },
        "id": "rVuD9sVZBFM8",
        "outputId": "c02f65cd-fb90-4aad-dc70-6aa6759a6730"
      },
      "execution_count": null,
      "outputs": [
        {
          "output_type": "stream",
          "name": "stdout",
          "text": [
            "tensor([[0.5094, 0.4952]])\n",
            "tensor([0.5000])\n"
          ]
        }
      ]
    },
    {
      "cell_type": "markdown",
      "source": [
        "Inference"
      ],
      "metadata": {
        "id": "u39IAlo8Bkpv"
      }
    },
    {
      "cell_type": "code",
      "source": [
        "# Daily returns of two stocks for today and yesterday\n",
        "x = torch.tensor([[4.0, 2.0],\n",
        "                  [6.0, 4.0]])"
      ],
      "metadata": {
        "id": "hio-3C7aBWfz"
      },
      "execution_count": null,
      "outputs": []
    },
    {
      "cell_type": "code",
      "source": [
        "out = model(x)"
      ],
      "metadata": {
        "colab": {
          "base_uri": "https://localhost:8080/"
        },
        "id": "YJNyCLSNByQz",
        "outputId": "d97f8643-60a6-44fb-921a-42885f8fe6be"
      },
      "execution_count": null,
      "outputs": [
        {
          "output_type": "stream",
          "name": "stdout",
          "text": [
            "printing input:  tensor([[4., 2.],\n",
            "        [6., 4.]])\n",
            "\n",
            "\n",
            "printing output: of leaky relu  tensor([[4., 2.],\n",
            "        [6., 4.]])\n",
            "\n",
            "\n",
            "printing output: of linear layer tensor([[3.5281],\n",
            "        [5.5373]], grad_fn=<AddmmBackward0>)\n",
            "\n",
            "\n",
            "printing output: of softmax layer tensor([[0.1182],\n",
            "        [0.8818]], grad_fn=<SoftmaxBackward0>)\n"
          ]
        }
      ]
    },
    {
      "cell_type": "code",
      "source": [],
      "metadata": {
        "id": "OaUlFLEFB19c"
      },
      "execution_count": null,
      "outputs": []
    }
  ]
}